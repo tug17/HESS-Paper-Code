{
 "cells": [
  {
   "cell_type": "code",
   "execution_count": 1,
   "id": "8496bc69-0eb2-49d3-b001-61d941e5f21f",
   "metadata": {},
   "outputs": [],
   "source": [
    "import json\n",
    "import os\n",
    "import numpy as np\n",
    "\n",
    "from src.ForecastModel.utils.postprocessing import extract_arima_metrics, regroup_metrics\n"
   ]
  },
  {
   "cell_type": "code",
   "execution_count": null,
   "id": "03689099-3c74-4564-8ff9-723048e556ee",
   "metadata": {},
   "outputs": [],
   "source": [
    "# format metrics of ARIMAX external model\n",
    "\n",
    "path = r\"src\\rst\\ARIMAX\"\n",
    "extract_arima_metrics(path, \"(14,1,13)_testing.json\")\n",
    "regroup_metrics(path)"
   ]
  },
  {
   "cell_type": "code",
   "execution_count": null,
   "id": "8e50dc35-0501-4e19-bc81-8f84b8a01482",
   "metadata": {},
   "outputs": [],
   "source": [
    "# format metrics of ARIMA external model\n",
    "\n",
    "#path = r\"src\\rst\\ARIMA\"\n",
    "#extract_arima_metrics(path, \"(14,1,13)_testing.json\")\n",
    "#regroup_metrics(path)"
   ]
  }
 ],
 "metadata": {
  "kernelspec": {
   "display_name": "Python 3 (ipykernel)",
   "language": "python",
   "name": "python3"
  },
  "language_info": {
   "codemirror_mode": {
    "name": "ipython",
    "version": 3
   },
   "file_extension": ".py",
   "mimetype": "text/x-python",
   "name": "python",
   "nbconvert_exporter": "python",
   "pygments_lexer": "ipython3",
   "version": "3.9.18"
  }
 },
 "nbformat": 4,
 "nbformat_minor": 5
}
